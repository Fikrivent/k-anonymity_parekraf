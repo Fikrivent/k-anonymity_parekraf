{
  "nbformat": 4,
  "nbformat_minor": 5,
  "metadata": {
    "kernelspec": {
      "display_name": "Python 3",
      "language": "python",
      "name": "python3"
    },
    "language_info": {
      "codemirror_mode": {
        "name": "ipython",
        "version": 3
      },
      "file_extension": ".py",
      "mimetype": "text/x-python",
      "name": "python",
      "nbconvert_exporter": "python",
      "pygments_lexer": "ipython3",
      "version": "3.8.8"
    },
    "colab": {
      "name": "K-Anonymity_Dataset_Parekraf.ipynb",
      "provenance": [],
      "collapsed_sections": []
    }
  },
  "cells": [
    {
      "cell_type": "markdown",
      "source": [
        "Pandas Library Import"
      ],
      "metadata": {
        "id": "BQuboYqc12FL"
      },
      "id": "BQuboYqc12FL"
    },
    {
      "cell_type": "code",
      "metadata": {
        "id": "b33f9fe7"
      },
      "source": [
        "import pandas as pd"
      ],
      "id": "b33f9fe7",
      "execution_count": null,
      "outputs": []
    },
    {
      "cell_type": "markdown",
      "source": [
        "Dataset Import"
      ],
      "metadata": {
        "id": "9-BZS85K16ml"
      },
      "id": "9-BZS85K16ml"
    },
    {
      "cell_type": "code",
      "metadata": {
        "id": "ef49e976"
      },
      "source": [
        "names = (\n",
        "    'nama',\n",
        "    'nik',\n",
        "    'pekerjaan',\n",
        "    'tempat_kerja',\n",
        "    'subsektor',\n",
        "    'alamat_kerja',\n",
        "    'no_hp',\n",
        "    'alamat_tinggal',\n",
        "    'kab/kota'\n",
        ")\n",
        "\n",
        "categorical = set((\n",
        "    'nama',\n",
        "    'nik',\n",
        "    'pekerjaan',\n",
        "    'tempat_kerja',\n",
        "    'subsektor',\n",
        "    'alamat_kerja',\n",
        "    'no_hp',\n",
        "    'alamat_tinggal',\n",
        "    'kab/kota'\n",
        "))\n",
        "\n",
        "df = pd.read_csv(\"dataset.csv\", sep=\",\", header=None,names=names, index_col=False, engine='python')"
      ],
      "id": "ef49e976",
      "execution_count": null,
      "outputs": []
    },
    {
      "cell_type": "code",
      "metadata": {
        "colab": {
          "base_uri": "https://localhost:8080/",
          "height": 434
        },
        "id": "5ee16f49",
        "outputId": "2101f805-bff6-4d48-85f8-52aa3220b09d"
      },
      "source": [
        "df.head()"
      ],
      "id": "5ee16f49",
      "execution_count": null,
      "outputs": [
        {
          "output_type": "execute_result",
          "data": {
            "text/html": [
              "<div>\n",
              "<style scoped>\n",
              "    .dataframe tbody tr th:only-of-type {\n",
              "        vertical-align: middle;\n",
              "    }\n",
              "\n",
              "    .dataframe tbody tr th {\n",
              "        vertical-align: top;\n",
              "    }\n",
              "\n",
              "    .dataframe thead th {\n",
              "        text-align: right;\n",
              "    }\n",
              "</style>\n",
              "<table border=\"1\" class=\"dataframe\">\n",
              "  <thead>\n",
              "    <tr style=\"text-align: right;\">\n",
              "      <th></th>\n",
              "      <th>nama</th>\n",
              "      <th>nik</th>\n",
              "      <th>pekerjaan</th>\n",
              "      <th>tempat_kerja</th>\n",
              "      <th>subsektor</th>\n",
              "      <th>alamat_kerja</th>\n",
              "      <th>no_hp</th>\n",
              "      <th>alamat_tinggal</th>\n",
              "      <th>kab/kota</th>\n",
              "    </tr>\n",
              "  </thead>\n",
              "  <tbody>\n",
              "    <tr>\n",
              "      <th>0</th>\n",
              "      <td>MUSTHOFIYAH</td>\n",
              "      <td>3321124411970000</td>\n",
              "      <td>Karyawan</td>\n",
              "      <td>Java kitchen</td>\n",
              "      <td>KULINER</td>\n",
              "      <td>Restoran java kitchen pondok indah\\nmall 2 lt....</td>\n",
              "      <td>087845671424</td>\n",
              "      <td>Demak(jln.kopro banjir no.1\\nRt.8/Rw.11 kebayo...</td>\n",
              "      <td>05. Kabupaten Demak</td>\n",
              "    </tr>\n",
              "    <tr>\n",
              "      <th>1</th>\n",
              "      <td>DWI MARFIANA</td>\n",
              "      <td>3321115432630000</td>\n",
              "      <td>Pemilik</td>\n",
              "      <td>Batik KarangMlati</td>\n",
              "      <td>KRIYA</td>\n",
              "      <td>Jalan Demak Bonang KM 5</td>\n",
              "      <td>081326186882</td>\n",
              "      <td>Jalan Demak Bonang KM 5</td>\n",
              "      <td>05. Kabupaten Demak</td>\n",
              "    </tr>\n",
              "    <tr>\n",
              "      <th>2</th>\n",
              "      <td>IRSYAD</td>\n",
              "      <td>3172010309851000</td>\n",
              "      <td>Pemilik</td>\n",
              "      <td>Zem Silver</td>\n",
              "      <td>KRIYA, DESAIN PRODUK</td>\n",
              "      <td>Desa Mijen, Kecamatan Kebonagung</td>\n",
              "      <td>082313130261</td>\n",
              "      <td>Desa Mijen, Kecamatan Kebonagung</td>\n",
              "      <td>05. Kabupaten Demak</td>\n",
              "    </tr>\n",
              "    <tr>\n",
              "      <th>3</th>\n",
              "      <td>TRIA AGUNG AS</td>\n",
              "      <td>3321061605950010</td>\n",
              "      <td>Pemilik</td>\n",
              "      <td>Mulya mandiri</td>\n",
              "      <td>FASHION, DESAIN PRODUK</td>\n",
              "      <td>Ds.getas kec.wonosalam rt 06 rw04 kab.Demak</td>\n",
              "      <td>082133670896</td>\n",
              "      <td>Ds.getas kec.wonosalam rt 06 rw04 kab.Demak</td>\n",
              "      <td>05. Kabupaten Demak</td>\n",
              "    </tr>\n",
              "    <tr>\n",
              "      <th>4</th>\n",
              "      <td>TRIYANTO</td>\n",
              "      <td>3321141312800000</td>\n",
              "      <td>Pemilik</td>\n",
              "      <td>Triyanto (pengrajin logam)</td>\n",
              "      <td>KRIYA, DESAIN PRODUK</td>\n",
              "      <td>Mijen selatan, kecamatan Kebonagung</td>\n",
              "      <td>089647568187</td>\n",
              "      <td>Mijen selatan, kecamatan Kebonagung</td>\n",
              "      <td>05. Kabupaten Demak</td>\n",
              "    </tr>\n",
              "  </tbody>\n",
              "</table>\n",
              "</div>"
            ],
            "text/plain": [
              "            nama  ...             kab/kota\n",
              "0    MUSTHOFIYAH  ...  05. Kabupaten Demak\n",
              "1   DWI MARFIANA  ...  05. Kabupaten Demak\n",
              "2         IRSYAD  ...  05. Kabupaten Demak\n",
              "3  TRIA AGUNG AS  ...  05. Kabupaten Demak\n",
              "4       TRIYANTO  ...  05. Kabupaten Demak\n",
              "\n",
              "[5 rows x 9 columns]"
            ]
          },
          "metadata": {},
          "execution_count": 4
        }
      ]
    },
    {
      "cell_type": "code",
      "metadata": {
        "id": "48b277b1"
      },
      "source": [
        "for name in categorical:\n",
        "    df[name] = df[name].astype('category')"
      ],
      "id": "48b277b1",
      "execution_count": null,
      "outputs": []
    },
    {
      "cell_type": "markdown",
      "source": [
        "Dataset Pre-Processing"
      ],
      "metadata": {
        "id": "_L3-pIL51_Vf"
      },
      "id": "_L3-pIL51_Vf"
    },
    {
      "cell_type": "code",
      "metadata": {
        "colab": {
          "base_uri": "https://localhost:8080/",
          "height": 434
        },
        "id": "91c9a92c",
        "outputId": "015d1a07-6d91-4fa4-d469-aeaac9ca9cef"
      },
      "source": [
        "df['tempat_kerja_cat'] = df['tempat_kerja'].cat.codes\n",
        "df['alamat_tinggal_cat'] = df['alamat_tinggal'].cat.codes\n",
        "df['alamat_kerja_cat'] = df['alamat_kerja'].cat.codes\n",
        "\n",
        "\n",
        "df.head()"
      ],
      "id": "91c9a92c",
      "execution_count": null,
      "outputs": [
        {
          "output_type": "execute_result",
          "data": {
            "text/html": [
              "<div>\n",
              "<style scoped>\n",
              "    .dataframe tbody tr th:only-of-type {\n",
              "        vertical-align: middle;\n",
              "    }\n",
              "\n",
              "    .dataframe tbody tr th {\n",
              "        vertical-align: top;\n",
              "    }\n",
              "\n",
              "    .dataframe thead th {\n",
              "        text-align: right;\n",
              "    }\n",
              "</style>\n",
              "<table border=\"1\" class=\"dataframe\">\n",
              "  <thead>\n",
              "    <tr style=\"text-align: right;\">\n",
              "      <th></th>\n",
              "      <th>nama</th>\n",
              "      <th>nik</th>\n",
              "      <th>pekerjaan</th>\n",
              "      <th>tempat_kerja</th>\n",
              "      <th>subsektor</th>\n",
              "      <th>alamat_kerja</th>\n",
              "      <th>no_hp</th>\n",
              "      <th>alamat_tinggal</th>\n",
              "      <th>kab/kota</th>\n",
              "      <th>tempat_kerja_cat</th>\n",
              "      <th>alamat_tinggal_cat</th>\n",
              "      <th>alamat_kerja_cat</th>\n",
              "    </tr>\n",
              "  </thead>\n",
              "  <tbody>\n",
              "    <tr>\n",
              "      <th>0</th>\n",
              "      <td>MUSTHOFIYAH</td>\n",
              "      <td>3321124411970000</td>\n",
              "      <td>Karyawan</td>\n",
              "      <td>Java kitchen</td>\n",
              "      <td>KULINER</td>\n",
              "      <td>Restoran java kitchen pondok indah\\nmall 2 lt....</td>\n",
              "      <td>087845671424</td>\n",
              "      <td>Demak(jln.kopro banjir no.1\\nRt.8/Rw.11 kebayo...</td>\n",
              "      <td>05. Kabupaten Demak</td>\n",
              "      <td>12</td>\n",
              "      <td>3</td>\n",
              "      <td>48</td>\n",
              "    </tr>\n",
              "    <tr>\n",
              "      <th>1</th>\n",
              "      <td>DWI MARFIANA</td>\n",
              "      <td>3321115432630000</td>\n",
              "      <td>Pemilik</td>\n",
              "      <td>Batik KarangMlati</td>\n",
              "      <td>KRIYA</td>\n",
              "      <td>Jalan Demak Bonang KM 5</td>\n",
              "      <td>081326186882</td>\n",
              "      <td>Jalan Demak Bonang KM 5</td>\n",
              "      <td>05. Kabupaten Demak</td>\n",
              "      <td>1</td>\n",
              "      <td>11</td>\n",
              "      <td>11</td>\n",
              "    </tr>\n",
              "    <tr>\n",
              "      <th>2</th>\n",
              "      <td>IRSYAD</td>\n",
              "      <td>3172010309851000</td>\n",
              "      <td>Pemilik</td>\n",
              "      <td>Zem Silver</td>\n",
              "      <td>KRIYA, DESAIN PRODUK</td>\n",
              "      <td>Desa Mijen, Kecamatan Kebonagung</td>\n",
              "      <td>082313130261</td>\n",
              "      <td>Desa Mijen, Kecamatan Kebonagung</td>\n",
              "      <td>05. Kabupaten Demak</td>\n",
              "      <td>38</td>\n",
              "      <td>5</td>\n",
              "      <td>2</td>\n",
              "    </tr>\n",
              "    <tr>\n",
              "      <th>3</th>\n",
              "      <td>TRIA AGUNG AS</td>\n",
              "      <td>3321061605950010</td>\n",
              "      <td>Pemilik</td>\n",
              "      <td>Mulya mandiri</td>\n",
              "      <td>FASHION, DESAIN PRODUK</td>\n",
              "      <td>Ds.getas kec.wonosalam rt 06 rw04 kab.Demak</td>\n",
              "      <td>082133670896</td>\n",
              "      <td>Ds.getas kec.wonosalam rt 06 rw04 kab.Demak</td>\n",
              "      <td>05. Kabupaten Demak</td>\n",
              "      <td>16</td>\n",
              "      <td>10</td>\n",
              "      <td>9</td>\n",
              "    </tr>\n",
              "    <tr>\n",
              "      <th>4</th>\n",
              "      <td>TRIYANTO</td>\n",
              "      <td>3321141312800000</td>\n",
              "      <td>Pemilik</td>\n",
              "      <td>Triyanto (pengrajin logam)</td>\n",
              "      <td>KRIYA, DESAIN PRODUK</td>\n",
              "      <td>Mijen selatan, kecamatan Kebonagung</td>\n",
              "      <td>089647568187</td>\n",
              "      <td>Mijen selatan, kecamatan Kebonagung</td>\n",
              "      <td>05. Kabupaten Demak</td>\n",
              "      <td>32</td>\n",
              "      <td>24</td>\n",
              "      <td>38</td>\n",
              "    </tr>\n",
              "  </tbody>\n",
              "</table>\n",
              "</div>"
            ],
            "text/plain": [
              "            nama               nik  ... alamat_tinggal_cat alamat_kerja_cat\n",
              "0    MUSTHOFIYAH  3321124411970000  ...                  3               48\n",
              "1   DWI MARFIANA  3321115432630000  ...                 11               11\n",
              "2         IRSYAD  3172010309851000  ...                  5                2\n",
              "3  TRIA AGUNG AS  3321061605950010  ...                 10                9\n",
              "4       TRIYANTO  3321141312800000  ...                 24               38\n",
              "\n",
              "[5 rows x 12 columns]"
            ]
          },
          "metadata": {},
          "execution_count": 6
        }
      ]
    },
    {
      "cell_type": "markdown",
      "source": [
        "Get Spans"
      ],
      "metadata": {
        "id": "jwpag9n62Evr"
      },
      "id": "jwpag9n62Evr"
    },
    {
      "cell_type": "code",
      "metadata": {
        "id": "1453e61d"
      },
      "source": [
        "def get_spans(df, partition, scale=None):\n",
        "    \"\"\"\n",
        "    :param        df: the dataframe for which to calculate the spans\n",
        "    :param partition: the partition for which to calculate the spans\n",
        "    :param     scale: if given, the spans of each column will be divided\n",
        "                      by the value in `scale` for that column\n",
        "    :        returns: The spans of all columns in the partition\n",
        "    \"\"\"\n",
        "    spans = {}\n",
        "    for column in df.columns:\n",
        "        if column in categorical:\n",
        "            span = len(df[column][partition].unique())\n",
        "        else:\n",
        "            span = df[column][partition].max()-df[column][partition].min()\n",
        "        if scale is not None:\n",
        "            span = span/scale[column]\n",
        "        spans[column] = span\n",
        "    return spans"
      ],
      "id": "1453e61d",
      "execution_count": null,
      "outputs": []
    },
    {
      "cell_type": "code",
      "metadata": {
        "colab": {
          "base_uri": "https://localhost:8080/"
        },
        "id": "5babbbde",
        "outputId": "a010e0ff-f9c4-4473-d2df-a10d0e163a52"
      },
      "source": [
        "full_spans = get_spans(df, df.index)\n",
        "full_spans"
      ],
      "id": "5babbbde",
      "execution_count": null,
      "outputs": [
        {
          "output_type": "execute_result",
          "data": {
            "text/plain": [
              "{'alamat_kerja': 62,\n",
              " 'alamat_kerja_cat': 61,\n",
              " 'alamat_tinggal': 71,\n",
              " 'alamat_tinggal_cat': 70,\n",
              " 'kab/kota': 1,\n",
              " 'nama': 139,\n",
              " 'nik': 140,\n",
              " 'no_hp': 127,\n",
              " 'pekerjaan': 15,\n",
              " 'subsektor': 15,\n",
              " 'tempat_kerja': 44,\n",
              " 'tempat_kerja_cat': 43}"
            ]
          },
          "metadata": {},
          "execution_count": 8
        }
      ]
    },
    {
      "cell_type": "markdown",
      "source": [
        "K-Anonymity Functions"
      ],
      "metadata": {
        "id": "PVqEuVi82IIJ"
      },
      "id": "PVqEuVi82IIJ"
    },
    {
      "cell_type": "code",
      "metadata": {
        "id": "78efd2d2"
      },
      "source": [
        "def split(df, partition, column):\n",
        "    \"\"\"\n",
        "    :param        df: The dataframe to split\n",
        "    :param partition: The partition to split\n",
        "    :param    column: The column along which to split\n",
        "    :        returns: A tuple containing a split of the original partition\n",
        "    \"\"\"\n",
        "    dfp = df[column][partition]\n",
        "    if column in categorical:\n",
        "        values = dfp.unique()\n",
        "        lv = set(values[:len(values)//2])\n",
        "        rv = set(values[len(values)//2:])\n",
        "        return dfp.index[dfp.isin(lv)], dfp.index[dfp.isin(rv)]\n",
        "    else:        \n",
        "        median = dfp.median()\n",
        "        dfl = dfp.index[dfp < median]\n",
        "        dfr = dfp.index[dfp >= median]\n",
        "        return (dfl, dfr)"
      ],
      "id": "78efd2d2",
      "execution_count": null,
      "outputs": []
    },
    {
      "cell_type": "code",
      "metadata": {
        "id": "a9c7e868"
      },
      "source": [
        "def is_k_anonymous(df, partition, sensitive_column, k=3):\n",
        "    \"\"\"\n",
        "    :param               df: The dataframe on which to check the partition.\n",
        "    :param        partition: The partition of the dataframe to check.\n",
        "    :param sensitive_column: The name of the sensitive column\n",
        "    :param                k: The desired k\n",
        "    :returns               : True if the partition is valid according to our k-anonymity criteria, False otherwise.\n",
        "    \"\"\"\n",
        "    if len(partition) < k:\n",
        "        return False\n",
        "    return True\n",
        "\n",
        "def partition_dataset(df, feature_columns, sensitive_column, scale, is_valid):\n",
        "    \"\"\"\n",
        "    :param               df: The dataframe to be partitioned.\n",
        "    :param  feature_columns: A list of column names along which to partition the dataset.\n",
        "    :param sensitive_column: The name of the sensitive column (to be passed on to the `is_valid` function)\n",
        "    :param            scale: The column spans as generated before.\n",
        "    :param         is_valid: A function that takes a dataframe and a partition and returns True if the partition is valid.\n",
        "    :returns               : A list of valid partitions that cover the entire dataframe.\n",
        "    \"\"\"\n",
        "    finished_partitions = []\n",
        "    partitions = [df.index]\n",
        "    while partitions:\n",
        "        partition = partitions.pop(0)\n",
        "        spans = get_spans(df[feature_columns], partition, scale)\n",
        "        for column, span in sorted(spans.items(), key=lambda x:-x[1]):\n",
        "            lp, rp = split(df, partition, column)\n",
        "            if not is_valid(df, lp, sensitive_column) or not is_valid(df, rp, sensitive_column):\n",
        "                continue\n",
        "            partitions.extend((lp, rp))\n",
        "            break\n",
        "        else:\n",
        "            finished_partitions.append(partition)\n",
        "    return finished_partitions"
      ],
      "id": "a9c7e868",
      "execution_count": null,
      "outputs": []
    },
    {
      "cell_type": "code",
      "metadata": {
        "id": "8568e5e5"
      },
      "source": [
        "# we apply our partitioning method to two columns of our dataset, using \"income\" as the sensitive attribute\n",
        "feature_columns = ['alamat_kerja_cat','alamat_tinggal_cat']\n",
        "sensitive_column = 'subsektor'\n",
        "finished_partitions = partition_dataset(df, feature_columns, sensitive_column, full_spans, is_k_anonymous)"
      ],
      "id": "8568e5e5",
      "execution_count": null,
      "outputs": []
    },
    {
      "cell_type": "code",
      "metadata": {
        "id": "a37ea19d",
        "colab": {
          "base_uri": "https://localhost:8080/"
        },
        "outputId": "14451949-a1e1-4699-8958-a9e3571612b6"
      },
      "source": [
        "# we get the number of partitions that were created\n",
        "len(finished_partitions)"
      ],
      "id": "a37ea19d",
      "execution_count": null,
      "outputs": [
        {
          "output_type": "execute_result",
          "data": {
            "text/plain": [
              "19"
            ]
          },
          "metadata": {},
          "execution_count": 12
        }
      ]
    },
    {
      "cell_type": "markdown",
      "source": [
        "Matplotlib Library Import"
      ],
      "metadata": {
        "id": "PfmM4VM12OZv"
      },
      "id": "PfmM4VM12OZv"
    },
    {
      "cell_type": "code",
      "metadata": {
        "id": "aaf4b7be"
      },
      "source": [
        "import matplotlib.pylab as pl\n",
        "import matplotlib.patches as patches"
      ],
      "id": "aaf4b7be",
      "execution_count": null,
      "outputs": []
    },
    {
      "cell_type": "markdown",
      "source": [
        "Partition of Dataset Visualization"
      ],
      "metadata": {
        "id": "qxqioAnN2SA4"
      },
      "id": "qxqioAnN2SA4"
    },
    {
      "cell_type": "code",
      "metadata": {
        "id": "d0771b3d"
      },
      "source": [
        "def build_indexes(df):\n",
        "    indexes = {}\n",
        "    for column in categorical:\n",
        "        values = sorted(df[column].unique())\n",
        "        indexes[column] = { x : y for x, y in zip(values, range(len(values)))}\n",
        "    return indexes\n",
        "\n",
        "def get_coords(df, column, partition, indexes, offset=0.1):\n",
        "    if column in categorical:\n",
        "        sv = df[column][partition].sort_values()\n",
        "        l, r = indexes[column][sv[sv.index[0]]], indexes[column][sv[sv.index[-1]]]+1.0\n",
        "    else:\n",
        "        sv = df[column][partition].sort_values()\n",
        "        next_value = sv[sv.index[-1]]\n",
        "        larger_values = df[df[column] > next_value][column]\n",
        "        if len(larger_values) > 0:\n",
        "            next_value = larger_values.min()\n",
        "        l = sv[sv.index[0]]\n",
        "        r = next_value\n",
        "    # we add some offset to make the partitions more easily visible\n",
        "    l -= offset\n",
        "    r += offset\n",
        "    return l, r\n",
        "\n",
        "def get_partition_rects(df, partitions, column_x, column_y, indexes, offsets=[0.1, 0.1]):\n",
        "    rects = []\n",
        "    for partition in partitions:\n",
        "        xl, xr = get_coords(df, column_x, partition, indexes, offset=offsets[0])\n",
        "        yl, yr = get_coords(df, column_y, partition, indexes, offset=offsets[1])\n",
        "        rects.append(((xl, yl),(xr, yr)))\n",
        "    return rects\n",
        "\n",
        "def get_bounds(df, column, indexes, offset=1.0):\n",
        "    if column in categorical:\n",
        "        return 0-offset, len(indexes[column])+offset\n",
        "    return df[column].min()-offset, df[column].max()+offset"
      ],
      "id": "d0771b3d",
      "execution_count": null,
      "outputs": []
    },
    {
      "cell_type": "code",
      "metadata": {
        "id": "6cbed89f"
      },
      "source": [
        "# we calculate the bounding rects of all partitions that we created\n",
        "indexes = build_indexes(df)\n",
        "column_x, column_y = feature_columns[:2]\n",
        "rects = get_partition_rects(df, finished_partitions, column_x, column_y, indexes, offsets=[0.0, 0.0])"
      ],
      "id": "6cbed89f",
      "execution_count": null,
      "outputs": []
    },
    {
      "cell_type": "code",
      "metadata": {
        "id": "819dddea",
        "colab": {
          "base_uri": "https://localhost:8080/"
        },
        "outputId": "366afccd-25f9-438e-ab13-1bc5ac938cc0"
      },
      "source": [
        "# let's see how our rects look like\n",
        "rects[:10]"
      ],
      "id": "819dddea",
      "execution_count": null,
      "outputs": [
        {
          "output_type": "execute_result",
          "data": {
            "text/plain": [
              "[((0.0, 0.0), (13.0, 32.0)),\n",
              " ((13.0, 0.0), (20.0, 5.0)),\n",
              " ((13.0, 12.0), (16.0, 23.0)),\n",
              " ((20.0, 0.0), (25.0, 1.0)),\n",
              " ((25.0, 0.0), (30.0, 1.0)),\n",
              " ((30.0, 0.0), (35.0, 14.0)),\n",
              " ((36.0, 2.0), (49.0, 17.0)),\n",
              " ((35.0, 17.0), (41.0, 28.0)),\n",
              " ((41.0, 23.0), (55.0, 30.0)),\n",
              " ((13.0, 34.0), (14.0, 45.0))]"
            ]
          },
          "metadata": {},
          "execution_count": 16
        }
      ]
    },
    {
      "cell_type": "code",
      "metadata": {
        "id": "fbf25f85"
      },
      "source": [
        "# we plot the rects\n",
        "def plot_rects(df, ax, rects, column_x, column_y, edgecolor='black', facecolor='none'):\n",
        "    for (xl, yl),(xr, yr) in rects:\n",
        "        ax.add_patch(patches.Rectangle((xl,yl),xr-xl,yr-yl,linewidth=1,edgecolor=edgecolor,facecolor=facecolor, alpha=0.5))\n",
        "    ax.set_xlim(*get_bounds(df, column_x, indexes))\n",
        "    ax.set_ylim(*get_bounds(df, column_y, indexes))\n",
        "    ax.set_xlabel(column_x)\n",
        "    ax.set_ylabel(column_y)"
      ],
      "id": "fbf25f85",
      "execution_count": null,
      "outputs": []
    },
    {
      "cell_type": "code",
      "metadata": {
        "id": "0698f6af",
        "colab": {
          "base_uri": "https://localhost:8080/",
          "height": 935
        },
        "outputId": "3b8f6ed4-0a9f-4a51-b834-b3bc188bce9a"
      },
      "source": [
        "pl.figure(figsize=(20,20))\n",
        "ax = pl.subplot(111)\n",
        "plot_rects(df, ax, rects, column_x, column_y, facecolor='aqua')\n",
        "pl.scatter(df[column_x], df[column_y])\n",
        "pl.show()"
      ],
      "id": "0698f6af",
      "execution_count": null,
      "outputs": [
        {
          "output_type": "display_data",
          "data": {
            "image/png": "[encoded data removed]",
            "text/plain": [
              "<Figure size 1440x1440 with 1 Axes>"
            ]
          },
          "metadata": {
            "needs_background": "light"
          }
        }
      ]
    },
    {
      "cell_type": "markdown",
      "source": [
        "Building Anonymized Dataset"
      ],
      "metadata": {
        "id": "8nukPqix2aPL"
      },
      "id": "8nukPqix2aPL"
    },
    {
      "cell_type": "code",
      "metadata": {
        "id": "731bbc57"
      },
      "source": [
        "def agg_categorical_column(series):\n",
        "    return [','.join(set(series))]\n",
        "\n",
        "def agg_numerical_column(series):\n",
        "    return [series.mean()]"
      ],
      "id": "731bbc57",
      "execution_count": null,
      "outputs": []
    },
    {
      "cell_type": "code",
      "metadata": {
        "id": "52e7faa1"
      },
      "source": [
        "def build_anonymized_dataset(df, partitions, feature_columns, sensitive_column, max_partitions=None):\n",
        "    aggregations = {}\n",
        "    for column in feature_columns:\n",
        "        if column in categorical:\n",
        "            aggregations[column] = agg_categorical_column\n",
        "        else:\n",
        "            aggregations[column] = agg_numerical_column\n",
        "    rows = []\n",
        "    for i, partition in enumerate(partitions):\n",
        "        if i % 100 == 1:\n",
        "            print(\"Finished {} partitions...\".format(i))\n",
        "        if max_partitions is not None and i > max_partitions:\n",
        "            break\n",
        "        grouped_columns = df.loc[partition].agg(aggregations, squeeze=False)\n",
        "        sensitive_counts = df.loc[partition].groupby(sensitive_column).agg({sensitive_column : 'count'})\n",
        "        values = grouped_columns.iloc[0].to_dict()\n",
        "        for sensitive_value, count in sensitive_counts[sensitive_column].items():\n",
        "            if count == 0:\n",
        "                continue\n",
        "            values.update({\n",
        "                sensitive_column : sensitive_value,\n",
        "                'count' : count,\n",
        "\n",
        "            })\n",
        "            rows.append(values.copy())\n",
        "    return pd.DataFrame(rows)"
      ],
      "id": "52e7faa1",
      "execution_count": null,
      "outputs": []
    },
    {
      "cell_type": "code",
      "metadata": {
        "id": "bf98f14a",
        "colab": {
          "base_uri": "https://localhost:8080/"
        },
        "outputId": "1a085d51-2fe6-4a74-9d74-0b20eee3eea5"
      },
      "source": [
        "dfn = build_anonymized_dataset(df, finished_partitions, feature_columns, sensitive_column)"
      ],
      "id": "bf98f14a",
      "execution_count": null,
      "outputs": [
        {
          "output_type": "stream",
          "name": "stdout",
          "text": [
            "Finished 1 partitions...\n"
          ]
        }
      ]
    },
    {
      "cell_type": "code",
      "metadata": {
        "id": "af1786d7",
        "colab": {
          "base_uri": "https://localhost:8080/",
          "height": 1000
        },
        "outputId": "2d6a5d24-9cdc-41b7-e883-4afd87559ab2"
      },
      "source": [
        "dfn.to_csv('anonymized_dataset.csv', index=False)\n",
        "# we sort the resulting dataframe using the feature columns and the sensitive attribute\n",
        "dfn.sort_values(feature_columns+[sensitive_column])"
      ],
      "id": "af1786d7",
      "execution_count": null,
      "outputs": [
        {
          "output_type": "execute_result",
          "data": {
            "text/html": [
              "<div>\n",
              "<style scoped>\n",
              "    .dataframe tbody tr th:only-of-type {\n",
              "        vertical-align: middle;\n",
              "    }\n",
              "\n",
              "    .dataframe tbody tr th {\n",
              "        vertical-align: top;\n",
              "    }\n",
              "\n",
              "    .dataframe thead th {\n",
              "        text-align: right;\n",
              "    }\n",
              "</style>\n",
              "<table border=\"1\" class=\"dataframe\">\n",
              "  <thead>\n",
              "    <tr style=\"text-align: right;\">\n",
              "      <th></th>\n",
              "      <th>alamat_kerja_cat</th>\n",
              "      <th>alamat_tinggal_cat</th>\n",
              "      <th>subsektor</th>\n",
              "      <th>count</th>\n",
              "    </tr>\n",
              "  </thead>\n",
              "  <tbody>\n",
              "    <tr>\n",
              "      <th>0</th>\n",
              "      <td>3.254237</td>\n",
              "      <td>2.423729</td>\n",
              "      <td>Daya Tarik Wisata</td>\n",
              "      <td>1</td>\n",
              "    </tr>\n",
              "    <tr>\n",
              "      <th>1</th>\n",
              "      <td>3.254237</td>\n",
              "      <td>2.423729</td>\n",
              "      <td>Desa Wisata</td>\n",
              "      <td>1</td>\n",
              "    </tr>\n",
              "    <tr>\n",
              "      <th>2</th>\n",
              "      <td>3.254237</td>\n",
              "      <td>2.423729</td>\n",
              "      <td>FASHION</td>\n",
              "      <td>3</td>\n",
              "    </tr>\n",
              "    <tr>\n",
              "      <th>3</th>\n",
              "      <td>3.254237</td>\n",
              "      <td>2.423729</td>\n",
              "      <td>FASHION, DESAIN PRODUK</td>\n",
              "      <td>1</td>\n",
              "    </tr>\n",
              "    <tr>\n",
              "      <th>4</th>\n",
              "      <td>3.254237</td>\n",
              "      <td>2.423729</td>\n",
              "      <td>Hiburan/ Rekreasi</td>\n",
              "      <td>1</td>\n",
              "    </tr>\n",
              "    <tr>\n",
              "      <th>5</th>\n",
              "      <td>3.254237</td>\n",
              "      <td>2.423729</td>\n",
              "      <td>KRIYA</td>\n",
              "      <td>2</td>\n",
              "    </tr>\n",
              "    <tr>\n",
              "      <th>6</th>\n",
              "      <td>3.254237</td>\n",
              "      <td>2.423729</td>\n",
              "      <td>KRIYA, DESAIN PRODUK</td>\n",
              "      <td>1</td>\n",
              "    </tr>\n",
              "    <tr>\n",
              "      <th>7</th>\n",
              "      <td>3.254237</td>\n",
              "      <td>2.423729</td>\n",
              "      <td>Kuliner</td>\n",
              "      <td>47</td>\n",
              "    </tr>\n",
              "    <tr>\n",
              "      <th>8</th>\n",
              "      <td>3.254237</td>\n",
              "      <td>2.423729</td>\n",
              "      <td>Pemandu Wisata</td>\n",
              "      <td>1</td>\n",
              "    </tr>\n",
              "    <tr>\n",
              "      <th>9</th>\n",
              "      <td>3.254237</td>\n",
              "      <td>2.423729</td>\n",
              "      <td>SENI PERTUNJUKAN</td>\n",
              "      <td>1</td>\n",
              "    </tr>\n",
              "    <tr>\n",
              "      <th>30</th>\n",
              "      <td>13.000000</td>\n",
              "      <td>41.000000</td>\n",
              "      <td>Kuliner</td>\n",
              "      <td>5</td>\n",
              "    </tr>\n",
              "    <tr>\n",
              "      <th>31</th>\n",
              "      <td>13.000000</td>\n",
              "      <td>49.800000</td>\n",
              "      <td>Kuliner</td>\n",
              "      <td>5</td>\n",
              "    </tr>\n",
              "    <tr>\n",
              "      <th>32</th>\n",
              "      <td>13.000000</td>\n",
              "      <td>58.400000</td>\n",
              "      <td>Kuliner</td>\n",
              "      <td>5</td>\n",
              "    </tr>\n",
              "    <tr>\n",
              "      <th>33</th>\n",
              "      <td>13.000000</td>\n",
              "      <td>64.000000</td>\n",
              "      <td>Kuliner</td>\n",
              "      <td>5</td>\n",
              "    </tr>\n",
              "    <tr>\n",
              "      <th>11</th>\n",
              "      <td>13.600000</td>\n",
              "      <td>18.400000</td>\n",
              "      <td>Akomodasi</td>\n",
              "      <td>1</td>\n",
              "    </tr>\n",
              "    <tr>\n",
              "      <th>12</th>\n",
              "      <td>13.600000</td>\n",
              "      <td>18.400000</td>\n",
              "      <td>KRIYA</td>\n",
              "      <td>1</td>\n",
              "    </tr>\n",
              "    <tr>\n",
              "      <th>13</th>\n",
              "      <td>13.600000</td>\n",
              "      <td>18.400000</td>\n",
              "      <td>Kuliner</td>\n",
              "      <td>3</td>\n",
              "    </tr>\n",
              "    <tr>\n",
              "      <th>10</th>\n",
              "      <td>16.600000</td>\n",
              "      <td>0.800000</td>\n",
              "      <td>Kuliner</td>\n",
              "      <td>5</td>\n",
              "    </tr>\n",
              "    <tr>\n",
              "      <th>14</th>\n",
              "      <td>22.000000</td>\n",
              "      <td>0.000000</td>\n",
              "      <td>Kuliner</td>\n",
              "      <td>5</td>\n",
              "    </tr>\n",
              "    <tr>\n",
              "      <th>15</th>\n",
              "      <td>27.000000</td>\n",
              "      <td>0.000000</td>\n",
              "      <td>Kuliner</td>\n",
              "      <td>5</td>\n",
              "    </tr>\n",
              "    <tr>\n",
              "      <th>16</th>\n",
              "      <td>32.000000</td>\n",
              "      <td>2.600000</td>\n",
              "      <td>KRIYA</td>\n",
              "      <td>1</td>\n",
              "    </tr>\n",
              "    <tr>\n",
              "      <th>17</th>\n",
              "      <td>32.000000</td>\n",
              "      <td>2.600000</td>\n",
              "      <td>Kuliner</td>\n",
              "      <td>4</td>\n",
              "    </tr>\n",
              "    <tr>\n",
              "      <th>34</th>\n",
              "      <td>37.750000</td>\n",
              "      <td>40.000000</td>\n",
              "      <td>Akomodasi</td>\n",
              "      <td>1</td>\n",
              "    </tr>\n",
              "    <tr>\n",
              "      <th>35</th>\n",
              "      <td>37.750000</td>\n",
              "      <td>40.000000</td>\n",
              "      <td>Daya Tarik Wisata</td>\n",
              "      <td>1</td>\n",
              "    </tr>\n",
              "    <tr>\n",
              "      <th>36</th>\n",
              "      <td>37.750000</td>\n",
              "      <td>40.000000</td>\n",
              "      <td>Desa Wisata</td>\n",
              "      <td>1</td>\n",
              "    </tr>\n",
              "    <tr>\n",
              "      <th>37</th>\n",
              "      <td>37.750000</td>\n",
              "      <td>40.000000</td>\n",
              "      <td>KULINER</td>\n",
              "      <td>1</td>\n",
              "    </tr>\n",
              "    <tr>\n",
              "      <th>22</th>\n",
              "      <td>38.400000</td>\n",
              "      <td>23.000000</td>\n",
              "      <td>Daya Tarik Wisata</td>\n",
              "      <td>1</td>\n",
              "    </tr>\n",
              "    <tr>\n",
              "      <th>23</th>\n",
              "      <td>38.400000</td>\n",
              "      <td>23.000000</td>\n",
              "      <td>Desa Wisata</td>\n",
              "      <td>2</td>\n",
              "    </tr>\n",
              "    <tr>\n",
              "      <th>24</th>\n",
              "      <td>38.400000</td>\n",
              "      <td>23.000000</td>\n",
              "      <td>KRIYA, DESAIN PRODUK</td>\n",
              "      <td>1</td>\n",
              "    </tr>\n",
              "    <tr>\n",
              "      <th>25</th>\n",
              "      <td>38.400000</td>\n",
              "      <td>23.000000</td>\n",
              "      <td>KULINER</td>\n",
              "      <td>1</td>\n",
              "    </tr>\n",
              "    <tr>\n",
              "      <th>18</th>\n",
              "      <td>42.000000</td>\n",
              "      <td>10.000000</td>\n",
              "      <td>Desa Wisata</td>\n",
              "      <td>1</td>\n",
              "    </tr>\n",
              "    <tr>\n",
              "      <th>19</th>\n",
              "      <td>42.000000</td>\n",
              "      <td>10.000000</td>\n",
              "      <td>KRIYA</td>\n",
              "      <td>2</td>\n",
              "    </tr>\n",
              "    <tr>\n",
              "      <th>20</th>\n",
              "      <td>42.000000</td>\n",
              "      <td>10.000000</td>\n",
              "      <td>KULINER</td>\n",
              "      <td>1</td>\n",
              "    </tr>\n",
              "    <tr>\n",
              "      <th>21</th>\n",
              "      <td>42.000000</td>\n",
              "      <td>10.000000</td>\n",
              "      <td>PARIWISATA</td>\n",
              "      <td>1</td>\n",
              "    </tr>\n",
              "    <tr>\n",
              "      <th>26</th>\n",
              "      <td>48.000000</td>\n",
              "      <td>25.600000</td>\n",
              "      <td>Daya Tarik Wisata</td>\n",
              "      <td>1</td>\n",
              "    </tr>\n",
              "    <tr>\n",
              "      <th>27</th>\n",
              "      <td>48.000000</td>\n",
              "      <td>25.600000</td>\n",
              "      <td>Desa Wisata</td>\n",
              "      <td>1</td>\n",
              "    </tr>\n",
              "    <tr>\n",
              "      <th>28</th>\n",
              "      <td>48.000000</td>\n",
              "      <td>25.600000</td>\n",
              "      <td>FASHION</td>\n",
              "      <td>1</td>\n",
              "    </tr>\n",
              "    <tr>\n",
              "      <th>29</th>\n",
              "      <td>48.000000</td>\n",
              "      <td>25.600000</td>\n",
              "      <td>Kriya</td>\n",
              "      <td>2</td>\n",
              "    </tr>\n",
              "    <tr>\n",
              "      <th>38</th>\n",
              "      <td>51.400000</td>\n",
              "      <td>38.000000</td>\n",
              "      <td>Desa Wisata</td>\n",
              "      <td>2</td>\n",
              "    </tr>\n",
              "    <tr>\n",
              "      <th>39</th>\n",
              "      <td>51.400000</td>\n",
              "      <td>38.000000</td>\n",
              "      <td>KULINER</td>\n",
              "      <td>3</td>\n",
              "    </tr>\n",
              "    <tr>\n",
              "      <th>40</th>\n",
              "      <td>56.000000</td>\n",
              "      <td>41.000000</td>\n",
              "      <td>FASHION</td>\n",
              "      <td>2</td>\n",
              "    </tr>\n",
              "    <tr>\n",
              "      <th>41</th>\n",
              "      <td>56.000000</td>\n",
              "      <td>41.000000</td>\n",
              "      <td>Kriya</td>\n",
              "      <td>1</td>\n",
              "    </tr>\n",
              "    <tr>\n",
              "      <th>45</th>\n",
              "      <td>56.000000</td>\n",
              "      <td>60.000000</td>\n",
              "      <td>Desa Wisata</td>\n",
              "      <td>1</td>\n",
              "    </tr>\n",
              "    <tr>\n",
              "      <th>46</th>\n",
              "      <td>56.000000</td>\n",
              "      <td>60.000000</td>\n",
              "      <td>KRIYA</td>\n",
              "      <td>1</td>\n",
              "    </tr>\n",
              "    <tr>\n",
              "      <th>47</th>\n",
              "      <td>56.000000</td>\n",
              "      <td>60.000000</td>\n",
              "      <td>Kriya</td>\n",
              "      <td>1</td>\n",
              "    </tr>\n",
              "    <tr>\n",
              "      <th>42</th>\n",
              "      <td>57.000000</td>\n",
              "      <td>51.333333</td>\n",
              "      <td>Desa Wisata</td>\n",
              "      <td>1</td>\n",
              "    </tr>\n",
              "    <tr>\n",
              "      <th>43</th>\n",
              "      <td>57.000000</td>\n",
              "      <td>51.333333</td>\n",
              "      <td>FASHION</td>\n",
              "      <td>1</td>\n",
              "    </tr>\n",
              "    <tr>\n",
              "      <th>44</th>\n",
              "      <td>57.000000</td>\n",
              "      <td>51.333333</td>\n",
              "      <td>PARIWISATA</td>\n",
              "      <td>1</td>\n",
              "    </tr>\n",
              "    <tr>\n",
              "      <th>48</th>\n",
              "      <td>59.000000</td>\n",
              "      <td>69.000000</td>\n",
              "      <td>Daya Tarik Wisata</td>\n",
              "      <td>1</td>\n",
              "    </tr>\n",
              "    <tr>\n",
              "      <th>49</th>\n",
              "      <td>59.000000</td>\n",
              "      <td>69.000000</td>\n",
              "      <td>KRIYA</td>\n",
              "      <td>1</td>\n",
              "    </tr>\n",
              "    <tr>\n",
              "      <th>50</th>\n",
              "      <td>59.000000</td>\n",
              "      <td>69.000000</td>\n",
              "      <td>Restoran / Rumah Makan</td>\n",
              "      <td>1</td>\n",
              "    </tr>\n",
              "  </tbody>\n",
              "</table>\n",
              "</div>"
            ],
            "text/plain": [
              "    alamat_kerja_cat  alamat_tinggal_cat               subsektor  count\n",
              "0           3.254237            2.423729       Daya Tarik Wisata      1\n",
              "1           3.254237            2.423729             Desa Wisata      1\n",
              "2           3.254237            2.423729                 FASHION      3\n",
              "3           3.254237            2.423729  FASHION, DESAIN PRODUK      1\n",
              "4           3.254237            2.423729       Hiburan/ Rekreasi      1\n",
              "5           3.254237            2.423729                   KRIYA      2\n",
              "6           3.254237            2.423729    KRIYA, DESAIN PRODUK      1\n",
              "7           3.254237            2.423729                 Kuliner     47\n",
              "8           3.254237            2.423729          Pemandu Wisata      1\n",
              "9           3.254237            2.423729        SENI PERTUNJUKAN      1\n",
              "30         13.000000           41.000000                 Kuliner      5\n",
              "31         13.000000           49.800000                 Kuliner      5\n",
              "32         13.000000           58.400000                 Kuliner      5\n",
              "33         13.000000           64.000000                 Kuliner      5\n",
              "11         13.600000           18.400000               Akomodasi      1\n",
              "12         13.600000           18.400000                   KRIYA      1\n",
              "13         13.600000           18.400000                 Kuliner      3\n",
              "10         16.600000            0.800000                 Kuliner      5\n",
              "14         22.000000            0.000000                 Kuliner      5\n",
              "15         27.000000            0.000000                 Kuliner      5\n",
              "16         32.000000            2.600000                   KRIYA      1\n",
              "17         32.000000            2.600000                 Kuliner      4\n",
              "34         37.750000           40.000000               Akomodasi      1\n",
              "35         37.750000           40.000000       Daya Tarik Wisata      1\n",
              "36         37.750000           40.000000             Desa Wisata      1\n",
              "37         37.750000           40.000000                 KULINER      1\n",
              "22         38.400000           23.000000       Daya Tarik Wisata      1\n",
              "23         38.400000           23.000000             Desa Wisata      2\n",
              "24         38.400000           23.000000    KRIYA, DESAIN PRODUK      1\n",
              "25         38.400000           23.000000                 KULINER      1\n",
              "18         42.000000           10.000000             Desa Wisata      1\n",
              "19         42.000000           10.000000                   KRIYA      2\n",
              "20         42.000000           10.000000                 KULINER      1\n",
              "21         42.000000           10.000000              PARIWISATA      1\n",
              "26         48.000000           25.600000       Daya Tarik Wisata      1\n",
              "27         48.000000           25.600000             Desa Wisata      1\n",
              "28         48.000000           25.600000                 FASHION      1\n",
              "29         48.000000           25.600000                   Kriya      2\n",
              "38         51.400000           38.000000             Desa Wisata      2\n",
              "39         51.400000           38.000000                 KULINER      3\n",
              "40         56.000000           41.000000                 FASHION      2\n",
              "41         56.000000           41.000000                   Kriya      1\n",
              "45         56.000000           60.000000             Desa Wisata      1\n",
              "46         56.000000           60.000000                   KRIYA      1\n",
              "47         56.000000           60.000000                   Kriya      1\n",
              "42         57.000000           51.333333             Desa Wisata      1\n",
              "43         57.000000           51.333333                 FASHION      1\n",
              "44         57.000000           51.333333              PARIWISATA      1\n",
              "48         59.000000           69.000000       Daya Tarik Wisata      1\n",
              "49         59.000000           69.000000                   KRIYA      1\n",
              "50         59.000000           69.000000  Restoran / Rumah Makan      1"
            ]
          },
          "metadata": {},
          "execution_count": 22
        }
      ]
    },
    {
      "cell_type": "code",
      "metadata": {
        "id": "e86ce06a"
      },
      "source": [
        ""
      ],
      "id": "e86ce06a",
      "execution_count": null,
      "outputs": []
    }
  ]
}
